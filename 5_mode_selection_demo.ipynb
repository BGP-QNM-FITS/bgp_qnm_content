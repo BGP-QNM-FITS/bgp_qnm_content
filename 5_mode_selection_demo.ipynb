{
 "cells": [
  {
   "cell_type": "markdown",
   "id": "6605720b",
   "metadata": {},
   "source": [
    "#### This file demonstrates the mode selection process, and is used to populate table X in paper. "
   ]
  },
  {
   "cell_type": "code",
   "execution_count": null,
   "id": "3c26e1c5",
   "metadata": {},
   "outputs": [
    {
     "name": "stderr",
     "output_type": "stream",
     "text": [
      "/data/vault/rvnd2/Code/qnmfits/qnmfits/Waveforms/Base.py:116: RuntimeWarning: divide by zero encountered in divide\n",
      "  chidot = self.Jdot/(self.Moft**2).reshape(len(self.Moft),1)\n"
     ]
    }
   ],
   "source": [
    "import numpy as np\n",
    "import json\n",
    "import bgp_qnm_fits as bgp\n",
    "import time\n",
    "\n",
    "SIM_ID = \"0001\"\n",
    "DATA_TYPE = 'news'\n",
    "N_MAX = 6\n",
    "L_MAX = 7\n",
    "\n",
    "SPHERICAL_MODES_PE = [(2, 2),\n",
    "                      (3, 2), \n",
    "                      (4, 4), (4, 2),\n",
    "                      (5, 4), (5, 2),\n",
    "                      (6, 6), (6, 4),\n",
    "                      (7, 6)]\n",
    "\n",
    "INITIAL_MODES = [(*s, 0, 1) for s in SPHERICAL_MODES_PE]\n",
    "\n",
    "CANDIDATE_MODES = [(*s, n, 1) for s in SPHERICAL_MODES_PE for n in range(0, N_MAX + 1)] + \\\n",
    "                        [(*s, n, -1) for s in SPHERICAL_MODES_PE for n in range(0, N_MAX + 1)] + \\\n",
    "                        SPHERICAL_MODES_PE + \\\n",
    "                        [\n",
    "                            (2, 2, 0, 1, 2, 2, 0, 1),\n",
    "                            (3, 3, 0, 1, 3, 3, 0, 1),\n",
    "                            (2, 2, 0, 1, 2, 2, 0, 1, 2, 2, 0, 1)\n",
    "                        ]\n",
    "\n",
    "THRESHOLD = 0.9999\n",
    "T0 = 10 \n",
    "T = 100\n",
    "N_DRAWS = 1000\n",
    "INCLUDE_CHIF = False\n",
    "INCLUDE_MF = False\n",
    "\n",
    "log_threshold = np.log(THRESHOLD)"
   ]
  },
  {
   "cell_type": "code",
   "execution_count": 12,
   "id": "c4583dd6",
   "metadata": {},
   "outputs": [
    {
     "name": "stderr",
     "output_type": "stream",
     "text": [
      "/data/vault/rvnd2/Code/qnmfits/qnmfits/Waveforms/Base.py:116: RuntimeWarning: divide by zero encountered in divide\n",
      "  chidot = self.Jdot/(self.Moft**2).reshape(len(self.Moft),1)\n"
     ]
    }
   ],
   "source": [
    "tuned_param_dict_GP = bgp.get_tuned_param_dict(\"GP\", data_type=DATA_TYPE)[SIM_ID]\n",
    "sim = bgp.SXS_CCE(SIM_ID, type=DATA_TYPE, lev=\"Lev5\", radius=\"R2\")"
   ]
  },
  {
   "cell_type": "code",
   "execution_count": 13,
   "id": "821b8e3c",
   "metadata": {},
   "outputs": [
    {
     "name": "stderr",
     "output_type": "stream",
     "text": [
      "WARNING:2025-09-15 15:51:57,240:jax._src.xla_bridge:909: An NVIDIA GPU may be present on this machine, but a CUDA-enabled jaxlib is not installed. Falling back to cpu.\n",
      "WARNING:jax._src.xla_bridge:An NVIDIA GPU may be present on this machine, but a CUDA-enabled jaxlib is not installed. Falling back to cpu.\n"
     ]
    },
    {
     "name": "stdout",
     "output_type": "stream",
     "text": [
      "Adding mode (2, 2, 0, 1, 2, 2, 0, 1) with significance 1.0.\n",
      "Adding mode (2, 2, 1, 1) with significance 1.0.\n",
      "Adding mode (2, 2, 0, 1, 2, 2, 0, 1, 2, 2, 0, 1) with significance 1.0.\n",
      "Adding mode (7, 6, 1, 1) with significance 1.0.\n",
      "Adding mode (5, 4, 1, 1) with significance 1.0.\n",
      "Adding mode (3, 2, 1, 1) with significance 1.0.\n",
      "Adding mode (6, 6, 1, 1) with significance 1.0.\n",
      "Adding mode (7, 6, 2, 1) with significance 1.0.\n",
      "Adding mode (4, 2, 1, 1) with significance 1.0.\n",
      "Adding mode (6, 4, 1, 1) with significance 1.0.\n",
      "Adding mode (2, 2, 2, 1) with significance 1.0.\n"
     ]
    },
    {
     "ename": "KeyboardInterrupt",
     "evalue": "",
     "output_type": "error",
     "traceback": [
      "\u001b[31m---------------------------------------------------------------------------\u001b[39m",
      "\u001b[31mKeyboardInterrupt\u001b[39m                         Traceback (most recent call last)",
      "\u001b[36mCell\u001b[39m\u001b[36m \u001b[39m\u001b[32mIn[13]\u001b[39m\u001b[32m, line 1\u001b[39m\n\u001b[32m----> \u001b[39m\u001b[32m1\u001b[39m select_object = bgp.BGP_select(\n\u001b[32m      2\u001b[39m             sim.times,\n\u001b[32m      3\u001b[39m             sim.h,\n\u001b[32m      4\u001b[39m             INITIAL_MODES,\n\u001b[32m      5\u001b[39m             sim.Mf,\n\u001b[32m      6\u001b[39m             sim.chif_mag,\n\u001b[32m      7\u001b[39m             tuned_param_dict_GP,\n\u001b[32m      8\u001b[39m             bgp.kernel_GP,\n\u001b[32m      9\u001b[39m             t0=T0,\n\u001b[32m     10\u001b[39m             candidate_modes=CANDIDATE_MODES,\n\u001b[32m     11\u001b[39m             log_threshold=log_threshold,\n\u001b[32m     12\u001b[39m             candidate_type=\u001b[33m\"\u001b[39m\u001b[33msequential\u001b[39m\u001b[33m\"\u001b[39m,\n\u001b[32m     13\u001b[39m             num_draws=N_DRAWS,\n\u001b[32m     14\u001b[39m             T=T,\n\u001b[32m     15\u001b[39m             spherical_modes=SPHERICAL_MODES_PE,\n\u001b[32m     16\u001b[39m             include_chif=INCLUDE_CHIF,\n\u001b[32m     17\u001b[39m             include_Mf=INCLUDE_MF,\n\u001b[32m     18\u001b[39m             data_type=DATA_TYPE\n\u001b[32m     19\u001b[39m         )\n",
      "\u001b[36mFile \u001b[39m\u001b[32m/data/vault/rvnd2/Code/bgp_qnm_fits/bgp_qnm_fits/select_fit.py:53\u001b[39m, in \u001b[36mBGP_select.__init__\u001b[39m\u001b[34m(self, t0, candidate_modes, log_threshold, candidate_type, n_max, num_draws, *args, **kwargs)\u001b[39m\n\u001b[32m     51\u001b[39m \u001b[38;5;28mself\u001b[39m.num_draws = \u001b[38;5;28mint\u001b[39m(num_draws)\n\u001b[32m     52\u001b[39m \u001b[38;5;28mself\u001b[39m.candidate_type = candidate_type \n\u001b[32m---> \u001b[39m\u001b[32m53\u001b[39m \u001b[38;5;28mself\u001b[39m.get_fit_at_t0(t0)\n",
      "\u001b[36mFile \u001b[39m\u001b[32m/data/vault/rvnd2/Code/bgp_qnm_fits/bgp_qnm_fits/select_fit.py:264\u001b[39m, in \u001b[36mBGP_select.get_fit_at_t0\u001b[39m\u001b[34m(self, t0)\u001b[39m\n\u001b[32m    257\u001b[39m try_modes = modes + [candidate_mode]\n\u001b[32m    259\u001b[39m full_ref_params, model_terms, constant_term, fisher_matrix, b_vector, \\\n\u001b[32m    260\u001b[39m covariance_matrix, mean_vector = \u001b[38;5;28mself\u001b[39m.get_fit_arrays(\n\u001b[32m    261\u001b[39m     t0, model_times, masked_data_array, Mf_ref, chif_ref, \n\u001b[32m    262\u001b[39m     try_modes, noise_covariance_lower_triangular\n\u001b[32m    263\u001b[39m )\n\u001b[32m--> \u001b[39m\u001b[32m264\u001b[39m dot_product, log_s = get_log_significance_mode(candidate_mode, \n\u001b[32m    265\u001b[39m                                                     try_modes, \n\u001b[32m    266\u001b[39m                                                     mean_vector, \n\u001b[32m    267\u001b[39m                                                     fisher_matrix, \n\u001b[32m    268\u001b[39m                                                     include_chif=\u001b[38;5;28mself\u001b[39m.include_chif, \n\u001b[32m    269\u001b[39m                                                     include_Mf=\u001b[38;5;28mself\u001b[39m.include_Mf)\n\u001b[32m    270\u001b[39m log_significance.append(log_s)\n\u001b[32m    271\u001b[39m dot_products.append(dot_product)\n",
      "\u001b[36mFile \u001b[39m\u001b[32m/data/vault/rvnd2/Code/bgp_qnm_fits/bgp_qnm_fits/qnm_funcs.py:87\u001b[39m, in \u001b[36mget_log_significance_mode\u001b[39m\u001b[34m(mode, qnm_list, mean_vector, fisher_matrix, include_chif, include_Mf)\u001b[39m\n\u001b[32m     85\u001b[39m \u001b[38;5;28;01mif\u001b[39;00m include_Mf:\n\u001b[32m     86\u001b[39m     param_list += [\u001b[33m\"\u001b[39m\u001b[33mMf\u001b[39m\u001b[33m\"\u001b[39m]\n\u001b[32m---> \u001b[39m\u001b[32m87\u001b[39m marginal_mean, marginal_fisher = marginalise([mode], param_list, mean_vector, fisher_matrix)\n\u001b[32m     88\u001b[39m marginal_covariance = get_inverse(marginal_fisher)\n\u001b[32m     89\u001b[39m \u001b[38;5;28;01mreturn\u001b[39;00m get_log_significance(marginal_mean, marginal_covariance)\n",
      "\u001b[36mFile \u001b[39m\u001b[32m/data/vault/rvnd2/Code/bgp_qnm_fits/bgp_qnm_fits/qnm_funcs.py:29\u001b[39m, in \u001b[36mmarginalise\u001b[39m\u001b[34m(parameter_choice, parameters, mean_vector, fisher_matrix)\u001b[39m\n\u001b[32m      8\u001b[39m \u001b[38;5;250m\u001b[39m\u001b[33;03m\"\"\"This marginalises over the parameters in parameter_choice.\u001b[39;00m\n\u001b[32m      9\u001b[39m \n\u001b[32m     10\u001b[39m \u001b[33;03mInputs:\u001b[39;00m\n\u001b[32m   (...)\u001b[39m\u001b[32m     25\u001b[39m \u001b[33;03m    The Fisher matrix of the marginalised parameters.\u001b[39;00m\n\u001b[32m     26\u001b[39m \u001b[33;03m\"\"\"\u001b[39;00m\n\u001b[32m     28\u001b[39m keep_indices = jnp.array([i \u001b[38;5;28;01mfor\u001b[39;00m i, p \u001b[38;5;129;01min\u001b[39;00m \u001b[38;5;28menumerate\u001b[39m(parameters) \u001b[38;5;28;01mif\u001b[39;00m p \u001b[38;5;129;01min\u001b[39;00m parameter_choice])\n\u001b[32m---> \u001b[39m\u001b[32m29\u001b[39m marginalize_indices = jnp.array([i \u001b[38;5;28;01mfor\u001b[39;00m i \u001b[38;5;129;01min\u001b[39;00m \u001b[38;5;28mrange\u001b[39m(\u001b[38;5;28mlen\u001b[39m(parameters)) \u001b[38;5;28;01mif\u001b[39;00m i \u001b[38;5;129;01mnot\u001b[39;00m \u001b[38;5;129;01min\u001b[39;00m keep_indices])\n\u001b[32m     30\u001b[39m marginal_mean = mean_vector[keep_indices]\n\u001b[32m     31\u001b[39m Q_11 = fisher_matrix[jnp.ix_(keep_indices, keep_indices)]\n",
      "\u001b[36mFile \u001b[39m\u001b[32m/data/vault/rvnd2/Code/bgp_qnm_fits/bgp_qnm_fits/qnm_funcs.py:29\u001b[39m, in \u001b[36m<listcomp>\u001b[39m\u001b[34m(.0)\u001b[39m\n\u001b[32m      8\u001b[39m \u001b[38;5;250m\u001b[39m\u001b[33;03m\"\"\"This marginalises over the parameters in parameter_choice.\u001b[39;00m\n\u001b[32m      9\u001b[39m \n\u001b[32m     10\u001b[39m \u001b[33;03mInputs:\u001b[39;00m\n\u001b[32m   (...)\u001b[39m\u001b[32m     25\u001b[39m \u001b[33;03m    The Fisher matrix of the marginalised parameters.\u001b[39;00m\n\u001b[32m     26\u001b[39m \u001b[33;03m\"\"\"\u001b[39;00m\n\u001b[32m     28\u001b[39m keep_indices = jnp.array([i \u001b[38;5;28;01mfor\u001b[39;00m i, p \u001b[38;5;129;01min\u001b[39;00m \u001b[38;5;28menumerate\u001b[39m(parameters) \u001b[38;5;28;01mif\u001b[39;00m p \u001b[38;5;129;01min\u001b[39;00m parameter_choice])\n\u001b[32m---> \u001b[39m\u001b[32m29\u001b[39m marginalize_indices = jnp.array([i \u001b[38;5;28;01mfor\u001b[39;00m i \u001b[38;5;129;01min\u001b[39;00m \u001b[38;5;28mrange\u001b[39m(\u001b[38;5;28mlen\u001b[39m(parameters)) \u001b[38;5;28;01mif\u001b[39;00m i \u001b[38;5;129;01mnot\u001b[39;00m \u001b[38;5;129;01min\u001b[39;00m keep_indices])\n\u001b[32m     30\u001b[39m marginal_mean = mean_vector[keep_indices]\n\u001b[32m     31\u001b[39m Q_11 = fisher_matrix[jnp.ix_(keep_indices, keep_indices)]\n",
      "\u001b[36mFile \u001b[39m\u001b[32m/data/vault/rvnd2/python_envs/venv/lib/python3.11/site-packages/jax/_src/array.py:307\u001b[39m, in \u001b[36mArrayImpl.__bool__\u001b[39m\u001b[34m(self)\u001b[39m\n\u001b[32m    305\u001b[39m \u001b[38;5;28;01mdef\u001b[39;00m\u001b[38;5;250m \u001b[39m\u001b[34m__bool__\u001b[39m(\u001b[38;5;28mself\u001b[39m):\n\u001b[32m    306\u001b[39m   core.check_bool_conversion(\u001b[38;5;28mself\u001b[39m)\n\u001b[32m--> \u001b[39m\u001b[32m307\u001b[39m   \u001b[38;5;28;01mreturn\u001b[39;00m \u001b[38;5;28mbool\u001b[39m(\u001b[38;5;28mself\u001b[39m._value)\n",
      "\u001b[36mFile \u001b[39m\u001b[32m/data/vault/rvnd2/python_envs/venv/lib/python3.11/site-packages/jax/_src/profiler.py:334\u001b[39m, in \u001b[36mannotate_function.<locals>.wrapper\u001b[39m\u001b[34m(*args, **kwargs)\u001b[39m\n\u001b[32m    331\u001b[39m \u001b[38;5;129m@wraps\u001b[39m(func)\n\u001b[32m    332\u001b[39m \u001b[38;5;28;01mdef\u001b[39;00m\u001b[38;5;250m \u001b[39m\u001b[34mwrapper\u001b[39m(*args, **kwargs):\n\u001b[32m    333\u001b[39m   \u001b[38;5;28;01mwith\u001b[39;00m TraceAnnotation(name, **decorator_kwargs):\n\u001b[32m--> \u001b[39m\u001b[32m334\u001b[39m     \u001b[38;5;28;01mreturn\u001b[39;00m func(*args, **kwargs)\n",
      "\u001b[36mFile \u001b[39m\u001b[32m/data/vault/rvnd2/python_envs/venv/lib/python3.11/site-packages/jax/_src/array.py:641\u001b[39m, in \u001b[36mArrayImpl._value\u001b[39m\u001b[34m(self)\u001b[39m\n\u001b[32m    639\u001b[39m \u001b[38;5;28;01mif\u001b[39;00m \u001b[38;5;28mself\u001b[39m._npy_value \u001b[38;5;129;01mis\u001b[39;00m \u001b[38;5;28;01mNone\u001b[39;00m:\n\u001b[32m    640\u001b[39m   \u001b[38;5;28;01mif\u001b[39;00m \u001b[38;5;28mself\u001b[39m.is_fully_replicated:\n\u001b[32m--> \u001b[39m\u001b[32m641\u001b[39m     npy_value, did_copy = \u001b[38;5;28mself\u001b[39m._single_device_array_to_np_array_did_copy()\n\u001b[32m    642\u001b[39m     npy_value.flags.writeable = \u001b[38;5;28;01mFalse\u001b[39;00m\n\u001b[32m    643\u001b[39m     \u001b[38;5;28;01mif\u001b[39;00m did_copy:\n",
      "\u001b[31mKeyboardInterrupt\u001b[39m: "
     ]
    }
   ],
   "source": [
    "select_object = bgp.BGP_select(\n",
    "            sim.times,\n",
    "            sim.h,\n",
    "            INITIAL_MODES,\n",
    "            sim.Mf,\n",
    "            sim.chif_mag,\n",
    "            tuned_param_dict_GP,\n",
    "            bgp.kernel_GP,\n",
    "            t0=T0,\n",
    "            candidate_modes=CANDIDATE_MODES,\n",
    "            log_threshold=log_threshold,\n",
    "            candidate_type=\"sequential\",\n",
    "            num_draws=N_DRAWS,\n",
    "            T=T,\n",
    "            spherical_modes=SPHERICAL_MODES_PE,\n",
    "            include_chif=INCLUDE_CHIF,\n",
    "            include_Mf=INCLUDE_MF,\n",
    "            data_type=DATA_TYPE\n",
    "        )"
   ]
  },
  {
   "cell_type": "code",
   "execution_count": null,
   "id": "e1492f7c",
   "metadata": {},
   "outputs": [],
   "source": [
    "modes_lists = select_object.full_modes\n",
    "dot_products = select_object.dot_products"
   ]
  }
 ],
 "metadata": {
  "kernelspec": {
   "display_name": "venv",
   "language": "python",
   "name": "python3"
  },
  "language_info": {
   "codemirror_mode": {
    "name": "ipython",
    "version": 3
   },
   "file_extension": ".py",
   "mimetype": "text/x-python",
   "name": "python",
   "nbconvert_exporter": "python",
   "pygments_lexer": "ipython3",
   "version": "3.11.4"
  }
 },
 "nbformat": 4,
 "nbformat_minor": 5
}
